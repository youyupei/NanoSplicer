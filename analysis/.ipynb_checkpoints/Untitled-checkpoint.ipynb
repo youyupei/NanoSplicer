{
 "cells": [
  {
   "cell_type": "markdown",
   "metadata": {
    "slideshow": {
     "slide_type": "slide"
    }
   },
   "source": [
    "# Setup"
   ]
  },
  {
   "cell_type": "code",
   "execution_count": 24,
   "metadata": {
    "slideshow": {
     "slide_type": "skip"
    }
   },
   "outputs": [],
   "source": [
    "import pysam\n",
    "from intervaltree import IntervalTree\n",
    "from collections import defaultdict\n",
    "import os"
   ]
  },
  {
   "cell_type": "code",
   "execution_count": null,
   "metadata": {
    "slideshow": {
     "slide_type": "skip"
    }
   },
   "outputs": [],
   "source": [
    "# Load input files\n",
    "result_fn = \"../../PCR2_pool1/NanoSplicer_out/output.tsv\"\n",
    "result_f = open(result_fn, 'r')\n",
    "\n",
    "# Read lines from NanoSplicer output\n",
    "# return \n",
    "    #1. minimap: minimap supported junction\n",
    "    #2. candidaite: all candidate junctions\n",
    "    #3. NanoSplicer: indicate which candidate is selected by NanoSplicer (0-base int)\n",
    "    #4. min_score: S_i\n",
    "def parse_result_line(line):\n",
    "    minimap, candidates, NanoSplicer, min_score = line.split()\n",
    "    minimap = tuple([int(x) for x in minimap.split(',')])\n",
    "    candidates = [int(i) for i in candidates.split(',')]\n",
    "    candidates = [(candidates[i], candidates[i+1])\n",
    "                  for i in range(0,len(candidates),2)]\n",
    "    NanoSplicer            = int(NanoSplicer)\n",
    "    min_score = float(min_score)\n",
    "    return minimap, candidates, NanoSplicer, min_score"
   ]
  },
  {
   "cell_type": "code",
   "execution_count": 12,
   "metadata": {
    "scrolled": true,
    "slideshow": {
     "slide_type": "skip"
    }
   },
   "outputs": [],
   "source": [
    "# Get prop of NanoSplicer results match minimap2\n",
    "# output:\n",
    "    # 1. total: total number of squiggles/junction within reads\n",
    "    # 2. prop: prop of NanoSplicer results match minimap2\n",
    "    # 3. match_score: list of S_i for matched squiggle\n",
    "    # 4. mismatch_score list of S_i for mismatched squiggle\n",
    "def minimap_nanosplicer_campare(result_fn):\n",
    "    with open(result_fn, 'r') as f:\n",
    "        total = 0\n",
    "        match = 0\n",
    "        match_score = []\n",
    "        mismatch_score =[]\n",
    "        for line in f:\n",
    "            total += 1\n",
    "            minimap, candidates, NanoSplicer, min_score\\\n",
    "                                         = parse_result_line(line)\n",
    "            if minimap == candidates[NanoSplicer]:\n",
    "                match += 1\n",
    "                if min_score < 100:\n",
    "                    match_score.append(min_score)\n",
    "            elif min_score < 100:\n",
    "                mismatch_score.append(min_score)\n",
    "    prop = match/total\n",
    "    return total, prop, match_score,mismatch_score"
   ]
  },
  {
   "cell_type": "code",
   "execution_count": 20,
   "metadata": {},
   "outputs": [],
   "source": [
    "# check minimap2/NanoSplicer result with short read supported junctions\n",
    "# input:\n",
    "    # 1. result_fn: filename for nanoSplicer output\n",
    "    # 2. find_intron_result: pysam.find_intron result from short read.bam\n",
    "    # 3. max_S_i: threshold for S_i\n",
    "    # 4. short_thres: thershold for short read support\n",
    "\n",
    "# output:\n",
    "    # 1. minimap_match: list, number of short read support for each junction within read\n",
    "    # 2. NanoSplicer_match: list, number of short read support for each squiggle\n",
    "    # 3. num_junction_supported: number of junctions have short reads support.\n",
    "def to_short_read_compare(result_fn, find_intron_result):\n",
    "    with open(result_fn, 'r') as f:\n",
    "        S_is = []\n",
    "        minimap_match = []\n",
    "        NanoSplicer_match = []\n",
    "        num_junction_supported = []\n",
    "        for line in f:\n",
    "            minimap, candidates, NanoSplicer,S_i\\\n",
    "                                 = parse_result_line(line)\n",
    "            S_i\n",
    "            minimap_match.append(find_intron_result.get(minimap, 0))\n",
    "            NanoSplicer_match.append(find_intron_result.get(candidates[NanoSplicer], 0))\n",
    "            num_junction_supported.append(len(set(candidates).intersection(set(find_intron_result.keys()))))\n",
    "    return minimap_match, NanoSplicer_match ,num_junction_supported"
   ]
  },
  {
   "cell_type": "markdown",
   "metadata": {
    "slideshow": {
     "slide_type": "slide"
    }
   },
   "source": [
    "# Analysis\n",
    "\n",
    "## Distribution of S_i"
   ]
  },
  {
   "cell_type": "code",
   "execution_count": 19,
   "metadata": {
    "scrolled": true,
    "slideshow": {
     "slide_type": "slide"
    }
   },
   "outputs": [
    {
     "data": {
      "image/png": "[encoded data removed]",
      "text/plain": [
       "<Figure size 864x432 with 1 Axes>"
      ]
     },
     "metadata": {
      "needs_background": "light"
     },
     "output_type": "display_data"
    }
   ],
   "source": [
    "import matplotlib.pyplot as plt\n",
    "plt.rcParams[\"figure.figsize\"] = (12,6)\n",
    "total, match, match_score,mismatch_score = \\\n",
    "                    minimap_nanosplicer_campare(result_fn)\n",
    "\n",
    "plt.hist(match_score + mismatch_score, bins = 10000, alpha = 1)\n",
    "plt.hist(match_score , bins = 10000, alpha = 0.5)\n",
    "plt.xlim((0,10))\n",
    "plt.legend(['All min distance (S_i)','Si for results that match minimap2'])\n",
    "plt.xlabel('S_i')\n",
    "plt.ylabel('count')\n",
    "plt.title('Distribution of Si')\n",
    "plt.show()\n",
    "plt.close()"
   ]
  },
  {
   "cell_type": "markdown",
   "metadata": {},
   "source": [
    "## Short reads vs Long read Comparison"
   ]
  },
  {
   "cell_type": "code",
   "execution_count": null,
   "metadata": {},
   "outputs": [],
   "source": [
    "# Load BAM file\n",
    "BAM_FN = 'BAM/Chr_ID/NC_000001.11.bam'\n",
    "SHORT_READ_no_anno = '/data/cephfs/punim0614/shared/shared_data/'\\\n",
    "                    'external_public/RNASeqMixology/splice_site_analysis/'\\\n",
    "                    'GRCh38_bam_no_annotation/SRR1706863_1Aligned.sortedByCoord.out.bam'\n",
    "SHORT_READ_anno = '/data/cephfs/punim0614/shared/shared_data/external_public/'\\\n",
    "                    'RNASeqMixology/splice_site_analysis/GRCh38_bam_with'\\\n",
    "                    '_ncbi_annotation/SRR1706783_1Aligned.sortedByCoord.out.bam'\n",
    "REF_FN = '/data/cephfs/punim0614/shared/shared_data/external_public/' \\\n",
    "            'RNASeqMixology/splice_site_analysis/GRCh38_latest_genomic.fna'\n",
    "\n",
    "    # read .bam and .fa using pysam\n",
    "fbam = pysam.AlignmentFile(BAM_FN)\n",
    "f_short_anno = pysam.AlignmentFile(SHORT_READ_anno)\n",
    "f_short_no_anno = pysam.AlignmentFile(SHORT_READ_no_anno)\n",
    "fref = pysam.FastaFile(REF_FN)\n",
    "\n",
    "chrID = 'NC_000001.11'\n",
    "f_fetch = fbam.fetch(chrID) # reads iterator\n",
    "f_short_anno_fetch = f_short_anno.fetch(chrID)\n",
    "f_short_no_anno_fetch = f_short_no_anno.fetch(chrID)\n",
    "\n",
    "f_introns = fbam.find_introns(f_fetch) # dictionary\n",
    "f_short_anno_fetch_intron = f_short_anno.find_introns(f_short_anno_fetch)\n",
    "f_short_no_anno_fetch_intron = f_short_no_anno.find_introns(f_short_no_anno_fetch)\n"
   ]
  },
  {
   "cell_type": "code",
   "execution_count": null,
   "metadata": {},
   "outputs": [],
   "source": []
  }
 ],
 "metadata": {
  "celltoolbar": "Slideshow",
  "kernelspec": {
   "display_name": "Python 3",
   "language": "python",
   "name": "python3"
  },
  "language_info": {
   "codemirror_mode": {
    "name": "ipython",
    "version": 3
   },
   "file_extension": ".py",
   "mimetype": "text/x-python",
   "name": "python",
   "nbconvert_exporter": "python",
   "pygments_lexer": "ipython3",
   "version": "3.7.3"
  }
 },
 "nbformat": 4,
 "nbformat_minor": 2
}
